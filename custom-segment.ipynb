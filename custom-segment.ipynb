{
 "cells": [
  {
   "cell_type": "markdown",
   "id": "7ab2ac1f-cdca-4262-91ef-1fdf619b07da",
   "metadata": {},
   "source": [
    "### Welcome to customizing your segments. Please select the campaign or dataset you like to start with. Then create segments or micro-segments as per your requirements."
   ]
  },
  {
   "cell_type": "code",
   "execution_count": null,
   "id": "9b1ea1dc-91bd-4287-892c-d11f9eabc85b",
   "metadata": {},
   "outputs": [],
   "source": []
  }
 ],
 "metadata": {
  "kernelspec": {
   "display_name": "Python 3 (ipykernel)",
   "language": "python",
   "name": "python3"
  },
  "language_info": {
   "codemirror_mode": {
    "name": "ipython",
    "version": 3
   },
   "file_extension": ".py",
   "mimetype": "text/x-python",
   "name": "python",
   "nbconvert_exporter": "python",
   "pygments_lexer": "ipython3",
   "version": "3.12.7"
  }
 },
 "nbformat": 4,
 "nbformat_minor": 5
}
